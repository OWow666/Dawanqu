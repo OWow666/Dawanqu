{
 "cells": [
  {
   "metadata": {},
   "cell_type": "markdown",
   "source": "对于东京湾区，我们从 https://www.toukei.metro.tokyo.lg.jp/tnenkan/tn-index.htm 上搜集了其相关的数据，对其采用相同的方法进行分析。分析得到零售、企业数量对GDP的相关性最高。为简化模型，故仅使用这两种因素对东京湾区的GDP建立模型",
   "id": "861603246c29d257"
  },
  {
   "metadata": {
    "ExecuteTime": {
     "end_time": "2024-11-08T05:01:22.527760Z",
     "start_time": "2024-11-08T05:01:19.777313Z"
    }
   },
   "cell_type": "code",
   "source": [
    "import pandas as pd\n",
    "import numpy as np\n",
    "import matplotlib.pyplot as plt\n",
    "import os\n",
    "import statsmodels.api as sm"
   ],
   "id": "347b5ea0f2032c2f",
   "outputs": [],
   "execution_count": 1
  },
  {
   "metadata": {
    "ExecuteTime": {
     "end_time": "2024-11-08T05:12:37.558489Z",
     "start_time": "2024-11-08T05:12:36.870293Z"
    }
   },
   "cell_type": "code",
   "source": [
    "def extract_cell_data(folder_path, column, row):\n",
    "    data = {}\n",
    "    for filename in os.listdir(folder_path):\n",
    "        if filename.endswith('.csv'):\n",
    "            file_path = os.path.join(folder_path, filename)\n",
    "            df = pd.read_csv(file_path)\n",
    "            cell_data = df.iloc[row-1, column-1]\n",
    "            data[os.path.splitext(filename)[0]] = cell_data\n",
    "    return data\n",
    "\n",
    "folders = {\n",
    "    'GDP': os.path.join(os.getcwd(),'jp_data','GDP'),\n",
    "    'industry': os.path.join(os.getcwd(),'jp_data','industry'),\n",
    "    'retailing': os.path.join(os.getcwd(),'jp_data','retailing'),\n",
    "    'Welfare_Facilities': os.path.join(os.getcwd(),'jp_data','Welfare_Facilities')\n",
    "}\n",
    "dataframe_dict = {}\n",
    "processed_data = pd.DataFrame()\n",
    "for folder_name, folder_path in folders.items():\n",
    "    if folder_name == 'GDP':\n",
    "        data = extract_cell_data(folder_path, 3, 7)\n",
    "    elif folder_name == 'industry':\n",
    "        data = extract_cell_data(folder_path, 6, 2)\n",
    "    elif folder_name == 'retailing':\n",
    "        data = extract_cell_data(folder_path, 6, 2)\n",
    "    elif folder_name == 'Welfare_Facilities':\n",
    "        data = extract_cell_data(folder_path, 4, 1)\n",
    "    dataframe_dict = pd.DataFrame.from_dict(data, orient='index', columns=[folder_name])\n",
    "    processed_data[folder_name] = dataframe_dict[folder_name]\n",
    "processed_data.index = range(2015,2023)\n",
    "processed_data.to_csv('combined_data.csv')\n",
    "print(processed_data)"
   ],
   "id": "35d24e87da79069c",
   "outputs": [
    {
     "name": "stdout",
     "output_type": "stream",
     "text": [
      "          GDP  industry retailing Welfare_Facilities\n",
      "2015  39123.8    9415.0   84067.0               4644\n",
      "2016  39123.8   22302.0   84067.0               5147\n",
      "2017  43773.8    8256.0   84067.0               5468\n",
      "2018  43924.5    7837.0   84067.0               5883\n",
      "2019  45013.9    7425.0     86582               6760\n",
      "2020  45013.9    7450.0     86582               7056\n",
      "2021  43405.0    7450.0     86582               7363\n",
      "2022  43540.5    7450.0   82756.0               7598\n"
     ]
    }
   ],
   "execution_count": 16
  },
  {
   "metadata": {
    "ExecuteTime": {
     "end_time": "2024-11-08T05:13:39.198511Z",
     "start_time": "2024-11-08T05:13:39.178078Z"
    }
   },
   "cell_type": "code",
   "source": [
    "X = processed_data[['industry', 'retailing', 'Welfare_Facilities']]\n",
    "Y = processed_data['GDP']\n",
    "print(X.dtypes)\n",
    "processed_data['industry'] = pd.to_numeric(processed_data['industry'], errors='coerce')\n",
    "processed_data['retailing'] = pd.to_numeric(processed_data['retailing'], errors='coerce')\n",
    "processed_data['Welfare_Facilities'] = pd.to_numeric(processed_data['Welfare_Facilities'], errors='coerce')\n",
    "processed_data['GDP'] = pd.to_numeric(processed_data['GDP'], errors='coerce')\n",
    "X = sm.add_constant(X)\n",
    "model = sm.OLS(Y, X)\n",
    "results = model.fit()\n",
    "\n",
    "print(results.summary())"
   ],
   "id": "5c0b27187d64c25b",
   "outputs": [
    {
     "name": "stdout",
     "output_type": "stream",
     "text": [
      "industry              float64\n",
      "retailing             float64\n",
      "Welfare_Facilities      int64\n",
      "dtype: object\n",
      "                            OLS Regression Results                            \n",
      "==============================================================================\n",
      "Dep. Variable:                    GDP   R-squared:                       0.716\n",
      "Model:                            OLS   Adj. R-squared:                  0.504\n",
      "Method:                 Least Squares   F-statistic:                     3.367\n",
      "Date:                Fri, 08 Nov 2024   Prob (F-statistic):              0.136\n",
      "Time:                        13:13:39   Log-Likelihood:                -68.004\n",
      "No. Observations:                   8   AIC:                             144.0\n",
      "Df Residuals:                       4   BIC:                             144.3\n",
      "Df Model:                           3                                         \n",
      "Covariance Type:            nonrobust                                         \n",
      "======================================================================================\n",
      "                         coef    std err          t      P>|t|      [0.025      0.975]\n",
      "--------------------------------------------------------------------------------------\n",
      "const               1.671e+04   3.81e+04      0.439      0.683    -8.9e+04    1.22e+05\n",
      "industry              -0.2129      0.144     -1.476      0.214      -0.613       0.187\n",
      "retailing              0.2641      0.459      0.576      0.596      -1.009       1.537\n",
      "Welfare_Facilities     0.9314      0.701      1.328      0.255      -1.016       2.879\n",
      "==============================================================================\n",
      "Omnibus:                        0.848   Durbin-Watson:                   1.050\n",
      "Prob(Omnibus):                  0.654   Jarque-Bera (JB):                0.670\n",
      "Skew:                          -0.502   Prob(JB):                        0.715\n",
      "Kurtosis:                       1.998   Cond. No.                     5.48e+06\n",
      "==============================================================================\n",
      "\n",
      "Notes:\n",
      "[1] Standard Errors assume that the covariance matrix of the errors is correctly specified.\n",
      "[2] The condition number is large, 5.48e+06. This might indicate that there are\n",
      "strong multicollinearity or other numerical problems.\n"
     ]
    },
    {
     "name": "stderr",
     "output_type": "stream",
     "text": [
      "C:\\Users\\EricW\\anaconda3\\envs\\modeling\\Lib\\site-packages\\scipy\\stats\\_axis_nan_policy.py:418: UserWarning: `kurtosistest` p-value may be inaccurate with fewer than 20 observations; only n=8 observations were given.\n",
      "  return hypotest_fun_in(*args, **kwds)\n"
     ]
    }
   ],
   "execution_count": 19
  },
  {
   "metadata": {
    "ExecuteTime": {
     "end_time": "2024-11-08T05:13:32.166689Z",
     "start_time": "2024-11-08T05:13:32.163715Z"
    }
   },
   "cell_type": "code",
   "source": "",
   "id": "efbe073520ccb489",
   "outputs": [],
   "execution_count": null
  },
  {
   "metadata": {},
   "cell_type": "code",
   "outputs": [],
   "execution_count": null,
   "source": "",
   "id": "6b9951112beccfa1"
  }
 ],
 "metadata": {
  "kernelspec": {
   "display_name": "Python 3",
   "language": "python",
   "name": "python3"
  },
  "language_info": {
   "codemirror_mode": {
    "name": "ipython",
    "version": 2
   },
   "file_extension": ".py",
   "mimetype": "text/x-python",
   "name": "python",
   "nbconvert_exporter": "python",
   "pygments_lexer": "ipython2",
   "version": "2.7.6"
  }
 },
 "nbformat": 4,
 "nbformat_minor": 5
}
