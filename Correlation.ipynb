{
 "cells": [
  {
   "cell_type": "code",
   "id": "initial_id",
   "metadata": {
    "collapsed": true,
    "ExecuteTime": {
     "end_time": "2024-11-06T08:50:38.926073Z",
     "start_time": "2024-11-06T08:50:38.921626Z"
    }
   },
   "source": [
    "import pandas as pd\n",
    "import numpy as np\n",
    "import os\n",
    "import scipy.stats as stats"
   ],
   "outputs": [],
   "execution_count": 27
  },
  {
   "metadata": {
    "ExecuteTime": {
     "end_time": "2024-11-06T08:50:38.959943Z",
     "start_time": "2024-11-06T08:50:38.934710Z"
    }
   },
   "cell_type": "code",
   "source": [
    "data_dir = os.path.join(os.getcwd(), 'data')\n",
    "GDP_file = pd.read_excel(os.path.join(data_dir, 'GDP.xlsx'))\n",
    "GDP = GDP_file['大湾区汇总']\n",
    "GDP.index = list(range(1999,2024)) + ['total']"
   ],
   "id": "135a4ccc2ed73e36",
   "outputs": [],
   "execution_count": 28
  },
  {
   "metadata": {
    "ExecuteTime": {
     "end_time": "2024-11-06T08:50:39.030950Z",
     "start_time": "2024-11-06T08:50:39.001864Z"
    }
   },
   "cell_type": "code",
   "source": [
    "population_file = pd.read_excel(os.path.join(data_dir, '人口', '人口.xlsx'))\n",
    "population = population_file['大湾区汇总']\n",
    "population.index = list(range(1999,2024)) + ['total']\n",
    "population = population.interpolate(method='linear')"
   ],
   "id": "48b8fb2b3177416",
   "outputs": [],
   "execution_count": 29
  },
  {
   "metadata": {
    "ExecuteTime": {
     "end_time": "2024-11-06T08:50:39.057792Z",
     "start_time": "2024-11-06T08:50:39.052154Z"
    }
   },
   "cell_type": "code",
   "source": [
    "corr, p_val = stats.pearsonr(population, GDP)\n",
    "print(\"皮尔森相关系数: \", corr)\n",
    "print(\"p值\", p_val)"
   ],
   "id": "f5ec1bdd45b05780",
   "outputs": [
    {
     "name": "stdout",
     "output_type": "stream",
     "text": [
      "皮尔森相关系数:  0.9061942905415012\n",
      "p值 1.8848546675033025e-10\n"
     ]
    }
   ],
   "execution_count": 30
  }
 ],
 "metadata": {
  "kernelspec": {
   "display_name": "Python 3",
   "language": "python",
   "name": "python3"
  },
  "language_info": {
   "codemirror_mode": {
    "name": "ipython",
    "version": 2
   },
   "file_extension": ".py",
   "mimetype": "text/x-python",
   "name": "python",
   "nbconvert_exporter": "python",
   "pygments_lexer": "ipython2",
   "version": "2.7.6"
  }
 },
 "nbformat": 4,
 "nbformat_minor": 5
}
