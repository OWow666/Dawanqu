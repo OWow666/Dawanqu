{
 "cells": [
  {
   "cell_type": "markdown",
   "id": "8d8d1f1c10f89dcf",
   "metadata": {},
   "source": [
    "衡量一个现代化湾区的发展水平可以从经济、科技和人口方面进行分析。下采用pearson系数来衡量各因素与GDP间的相关性"
   ]
  },
  {
   "cell_type": "code",
   "execution_count": 1,
   "id": "initial_id",
   "metadata": {
    "ExecuteTime": {
     "end_time": "2024-11-07T04:30:02.775017Z",
     "start_time": "2024-11-07T04:29:59.444783Z"
    },
    "collapsed": true,
    "jupyter": {
     "outputs_hidden": true
    }
   },
   "outputs": [],
   "source": [
    "import pandas as pd\n",
    "import os\n",
    "import scipy.stats as stats"
   ]
  },
  {
   "cell_type": "code",
   "execution_count": 2,
   "id": "8273a7b5d7c19537",
   "metadata": {
    "ExecuteTime": {
     "end_time": "2024-11-07T04:30:02.809430Z",
     "start_time": "2024-11-07T04:30:02.797383Z"
    }
   },
   "outputs": [],
   "source": [
    "data_dir = os.path.join(os.getcwd(), 'data')\n",
    "economy_factor_dir = os.path.join(data_dir, '经济')\n",
    "population_factor_dir = os.path.join(data_dir, '人口')\n",
    "SciTech_factor_dir = os.path.join(data_dir, '科技')"
   ]
  },
  {
   "cell_type": "code",
   "execution_count": 3,
   "id": "135a4ccc2ed73e36",
   "metadata": {
    "ExecuteTime": {
     "end_time": "2024-11-07T04:30:03.794037Z",
     "start_time": "2024-11-07T04:30:03.020808Z"
    }
   },
   "outputs": [
    {
     "name": "stdout",
     "output_type": "stream",
     "text": [
      "1999     19980.230000\n",
      "2000     22389.990000\n",
      "2001     23321.990000\n",
      "2002     24519.570000\n",
      "2003     26184.840000\n",
      "2004     29508.700000\n",
      "2005     33522.030000\n",
      "2006     38124.660000\n",
      "2007     44011.270000\n",
      "2008     48973.530000\n",
      "2009     50794.090000\n",
      "2010     58051.950000\n",
      "2011     66188.760000\n",
      "2012     71760.760000\n",
      "2013     78973.260000\n",
      "2014     84829.650000\n",
      "2015     90121.260000\n",
      "2016     96706.290000\n",
      "2017    105593.180000\n",
      "2018    113250.280000\n",
      "2019    120108.670000\n",
      "2020    118633.020563\n",
      "2021    132073.579634\n",
      "2022    134745.950000\n",
      "2023    143922.770000\n",
      "Name: 大湾区汇总, dtype: float64\n"
     ]
    }
   ],
   "source": [
    "GDP_file = pd.read_excel(os.path.join(data_dir, 'GDP.xlsx'))\n",
    "GDP = GDP_file['大湾区汇总'][:-1]\n",
    "GDP.index = list(range(1999,2024))\n",
    "print(GDP)"
   ]
  },
  {
   "cell_type": "markdown",
   "id": "7d79006736b1a64c",
   "metadata": {},
   "source": [
    "下对经济相关因素进行相关性分析，首先进行数据处理，将所有的NA值进行线性差值处理。遇到数据缺失导致数据长度不同时采用截断处理。"
   ]
  },
  {
   "cell_type": "code",
   "execution_count": 4,
   "id": "18ba2d6548125f6b",
   "metadata": {
    "ExecuteTime": {
     "end_time": "2024-11-07T04:30:04.390320Z",
     "start_time": "2024-11-07T04:30:03.965300Z"
    }
   },
   "outputs": [],
   "source": [
    "with open(os.path.join(os.getcwd(), \"Economic_Factors.csv\"), 'a') as f:\n",
    "    f.write(\"经济相关因素,Pearson系数,p值\\n\")\n",
    "for files in os.listdir(economy_factor_dir):\n",
    "    file_path = os.path.join(economy_factor_dir, files)\n",
    "    factor_file = pd.read_excel(file_path)\n",
    "    factor = factor_file['大湾区汇总']\n",
    "    factor = factor.reset_index(drop=True)\n",
    "    factor.index += 1999\n",
    "    # 填充NA值\n",
    "    factor = factor.interpolate(method='linear')\n",
    "    # 截断处理\n",
    "    GDP_e = GDP\n",
    "    if factor.shape[0] < GDP_e.shape[0]:\n",
    "        GDP_e = GDP_e[:factor.shape[0]]\n",
    "    else:\n",
    "        factor = factor[:GDP_e.shape[0]]\n",
    "        \n",
    "    corr, p_val = stats.pearsonr(factor, GDP_e)\n",
    "    with open(os.path.join(os.getcwd(), \"Economic_Factors.csv\"), 'a') as f:\n",
    "        f.write(f\"{os.path.splitext(files)[0]},{corr},{p_val}\\n\")\n",
    "    "
   ]
  },
  {
   "cell_type": "markdown",
   "id": "258501a82e16b12f",
   "metadata": {},
   "source": [
    "下对人口相关因素进行相关性分析，处理方法同上。"
   ]
  },
  {
   "cell_type": "code",
   "execution_count": 5,
   "id": "b4a06f16143b8759",
   "metadata": {
    "ExecuteTime": {
     "end_time": "2024-11-07T04:30:04.561625Z",
     "start_time": "2024-11-07T04:30:04.406196Z"
    }
   },
   "outputs": [],
   "source": [
    "with open(os.path.join(os.getcwd(), \"Population_Factors.csv\"), 'a') as f:\n",
    "    f.write(\"人口相关因素,Pearson系数,p值\\n\")\n",
    "for files in os.listdir(population_factor_dir):\n",
    "    file_path = os.path.join(population_factor_dir, files)\n",
    "    factor_file = pd.read_excel(file_path)\n",
    "    factor = factor_file['大湾区汇总']\n",
    "    factor = factor.reset_index(drop=True)\n",
    "    factor.index += 1999\n",
    "    # 填充NA值\n",
    "    factor = factor.interpolate(method='linear')\n",
    "    # 截断处理\n",
    "    GDP_p = GDP\n",
    "    if factor.shape[0] < GDP_p.shape[0]:\n",
    "        GDP_p = GDP_p[:factor.shape[0]]\n",
    "    else:\n",
    "        factor = factor[:GDP_p.shape[0]]\n",
    "        \n",
    "    corr, p_val = stats.pearsonr(factor, GDP_p)\n",
    "    with open(os.path.join(os.getcwd(), \"Population_Factors.csv\"), 'a') as f:\n",
    "        f.write(f\"{os.path.splitext(files)[0]},{corr},{p_val}\\n\")"
   ]
  },
  {
   "cell_type": "markdown",
   "id": "8a82170a58a9a927",
   "metadata": {},
   "source": [
    "下对科技相关因素进行相关性分析，由于2015年前的科技数据缺失严重，故仅使用2015年后的数据。其他处理方法同上"
   ]
  },
  {
   "cell_type": "code",
   "execution_count": 6,
   "id": "d7619b3517705e5a",
   "metadata": {
    "ExecuteTime": {
     "end_time": "2024-11-07T04:30:04.837778Z",
     "start_time": "2024-11-07T04:30:04.642831Z"
    }
   },
   "outputs": [],
   "source": [
    "with open(os.path.join(os.getcwd(), \"SciTech_Factors.csv\"), 'a') as f:\n",
    "    f.write(\"科技相关因素,Pearson系数,p值\\n\")\n",
    "for files in os.listdir(SciTech_factor_dir):\n",
    "    file_path = os.path.join(SciTech_factor_dir, files)\n",
    "    factor_file = pd.read_excel(file_path)\n",
    "    factor = factor_file['大湾区汇总']\n",
    "    factor = factor.reset_index(drop=True)\n",
    "    factor.index += 2015\n",
    "    # 填充NA值\n",
    "    factor = factor.interpolate(method='linear')\n",
    "    factor = factor[0:6+1] # 2015~2021\n",
    "    # 截断处理\n",
    "    GDP_st = GDP\n",
    "    GDP_st = GDP_st[16:23]\n",
    "\n",
    "    corr, p_val = stats.pearsonr(factor, GDP_st)\n",
    "    with open(os.path.join(os.getcwd(), \"SciTech_Factors.csv\"), 'a') as f:\n",
    "        f.write(f\"{os.path.splitext(files)[0]},{corr},{p_val}\\n\")"
   ]
  }
 ],
 "metadata": {
  "kernelspec": {
   "display_name": "Python 3 (ipykernel)",
   "language": "python",
   "name": "python3"
  },
  "language_info": {
   "codemirror_mode": {
    "name": "ipython",
    "version": 3
   },
   "file_extension": ".py",
   "mimetype": "text/x-python",
   "name": "python",
   "nbconvert_exporter": "python",
   "pygments_lexer": "ipython3",
   "version": "3.11.9"
  }
 },
 "nbformat": 4,
 "nbformat_minor": 5
}
