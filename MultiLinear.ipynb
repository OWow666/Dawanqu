{
 "cells": [
  {
   "cell_type": "code",
   "execution_count": 1,
   "id": "initial_id",
   "metadata": {
    "ExecuteTime": {
     "end_time": "2024-11-07T18:36:42.830766Z",
     "start_time": "2024-11-07T18:36:40.978957Z"
    },
    "collapsed": true,
    "jupyter": {
     "outputs_hidden": true
    }
   },
   "outputs": [],
   "source": [
    "import pandas as pd\n",
    "import numpy as np\n",
    "import os\n",
    "from scipy.interpolate import interp1d\n",
    "import statsmodels.api as sm"
   ]
  },
  {
   "cell_type": "markdown",
   "id": "1639b5a08448b7a4",
   "metadata": {},
   "source": [
    "下读入五个显著相关的数据（科研投入、高新企业数量、出口货物、零售、就业情况），并对缺失数据进行线性插值和数据外推处理。"
   ]
  },
  {
   "cell_type": "code",
   "execution_count": 2,
   "id": "e77c79ce84c341c7",
   "metadata": {
    "ExecuteTime": {
     "end_time": "2024-11-07T18:36:44.389554Z",
     "start_time": "2024-11-07T18:36:43.938440Z"
    }
   },
   "outputs": [
    {
     "name": "stdout",
     "output_type": "stream",
     "text": [
      "         科研投入  高科技企业数量         出口货值           零售       就业情况\n",
      "1999     0.00      0.0  2079.020000   2102.66000  1758.6600\n",
      "2000     0.00      0.0  2428.210700   3290.77000  2243.1900\n",
      "2001     0.00      0.0  2339.230000   3497.10000  2292.8900\n",
      "2002     0.00      0.0  2547.390000   3913.14000  2376.4200\n",
      "2003     0.00      0.0  2915.390000   4402.42000  2590.0300\n",
      "2004     0.00      0.0  3451.980000   5019.48000  2841.5300\n",
      "2005     0.00      0.0  3909.402337   8148.64000  3180.0100\n",
      "2006     0.00      0.0  4397.810000   8967.24000  3358.8400\n",
      "2007     0.00      0.0  4946.930000  10514.23000  3484.3724\n",
      "2008   149.46      0.0  5292.050000  12464.94000  3614.9962\n",
      "2009   359.21      0.0  4618.630000  13805.69000  3790.0489\n",
      "2010   568.96      0.0  5702.567179  16617.22000  4060.7400\n",
      "2011   778.71      0.0  6342.228130  19608.02000  4020.6155\n",
      "2012   988.46      0.0  6612.590000  21789.56000  4038.9700\n",
      "2013  1198.21      0.0  6986.815800  24243.11000  4431.9400\n",
      "2014  1407.96   1055.0  7315.999500  26865.68000  4621.2800\n",
      "2015  1617.71  10356.0  7299.624390  28778.54000  4760.5900\n",
      "2016  1827.46  19657.0  7131.132785  30703.19000  4936.7700\n",
      "2017  2037.21  28958.0  7592.618236  33459.44000  5109.0600\n",
      "2018  2246.96  38259.0  8160.190000  36416.62000  5296.7200\n",
      "2019  2460.96  45926.0  7891.019711  38321.08000  5261.9800\n",
      "2020  2653.79  48325.0  7814.201300  34928.82000  5319.7500\n",
      "2021  4007.42  55560.0  9886.539580  38683.14653  5354.2200\n",
      "2022  4007.42  55560.0  9241.036143  39036.20000  5161.4800\n",
      "2023  4007.42  55560.0  8373.665171  41966.67000  4968.7400\n"
     ]
    }
   ],
   "source": [
    "data_dir = os.path.join(os.getcwd(), 'data')\n",
    "\n",
    "gdp_data = pd.read_excel(os.path.join(data_dir,'GDP.xlsx'))\n",
    "factors = ['科研投入', '高科技企业数量', '出口货值', '零售', '就业情况']\n",
    "factors_data = [pd.read_excel(os.path.join(data_dir, f'selected', f'{factor}.xlsx')) for factor in factors]\n",
    "\n",
    "def interpolate(data, start, end):\n",
    "    x = data['年份']\n",
    "    y = data['大湾区汇总'].interpolate(method='linear')\n",
    "    # 进行数据外推，针对'科研投入'和'高科技企业数量'两个因素\n",
    "    f = interp1d(x, y, kind='linear', bounds_error=False, fill_value=\"extrapolate\")\n",
    "    new_x = np.arange(start, end + 1)\n",
    "    new_y = f(new_x)\n",
    "    new_y = np.maximum(new_y, 0)\n",
    "    return pd.Series(new_y, index=new_x)\n",
    "\n",
    "all_factors = pd.DataFrame(index=range(1999,2024))\n",
    "\n",
    "cnt = 0\n",
    "for factor in factors_data:\n",
    "    interpolated_data = interpolate(factor, 1999, 2024)\n",
    "    # 防止有遗漏的NA值\n",
    "    interpolated_data = interpolated_data.interpolate(method='linear')\n",
    "    all_factors[factors[cnt]] = interpolated_data\n",
    "    cnt += 1\n",
    "print(all_factors)"
   ]
  },
  {
   "cell_type": "markdown",
   "id": "f372d4e4d4051874",
   "metadata": {},
   "source": [
    "下构建多元线性回归模型"
   ]
  },
  {
   "cell_type": "code",
   "execution_count": 3,
   "id": "6ab2b97c777b5431",
   "metadata": {
    "ExecuteTime": {
     "end_time": "2024-11-07T18:36:47.833590Z",
     "start_time": "2024-11-07T18:36:47.775155Z"
    }
   },
   "outputs": [
    {
     "name": "stdout",
     "output_type": "stream",
     "text": [
      "                            OLS Regression Results                            \n",
      "==============================================================================\n",
      "Dep. Variable:                  大湾区汇总   R-squared:                       0.998\n",
      "Model:                            OLS   Adj. R-squared:                  0.998\n",
      "Method:                 Least Squares   F-statistic:                     2189.\n",
      "Date:                Fri, 08 Nov 2024   Prob (F-statistic):           1.55e-25\n",
      "Time:                        02:36:47   Log-Likelihood:                -220.75\n",
      "No. Observations:                  25   AIC:                             453.5\n",
      "Df Residuals:                      19   BIC:                             460.8\n",
      "Df Model:                           5                                         \n",
      "Covariance Type:            nonrobust                                         \n",
      "==============================================================================\n",
      "                 coef    std err          t      P>|t|      [0.025      0.975]\n",
      "------------------------------------------------------------------------------\n",
      "const       1.246e+04   3853.930      3.233      0.004    4394.563    2.05e+04\n",
      "科研投入           6.2164      2.068      3.006      0.007       1.888      10.545\n",
      "高科技企业数量        0.1391      0.069      2.008      0.059      -0.006       0.284\n",
      "出口货值           1.0911      1.186      0.920      0.369      -1.391       3.574\n",
      "零售             1.9093      0.226      8.456      0.000       1.437       2.382\n",
      "就业情况           0.9989      2.653      0.376      0.711      -4.555       6.552\n",
      "==============================================================================\n",
      "Omnibus:                        4.957   Durbin-Watson:                   1.501\n",
      "Prob(Omnibus):                  0.084   Jarque-Bera (JB):                3.111\n",
      "Skew:                           0.788   Prob(JB):                        0.211\n",
      "Kurtosis:                       3.709   Cond. No.                     3.53e+05\n",
      "==============================================================================\n",
      "\n",
      "Notes:\n",
      "[1] Standard Errors assume that the covariance matrix of the errors is correctly specified.\n",
      "[2] The condition number is large, 3.53e+05. This might indicate that there are\n",
      "strong multicollinearity or other numerical problems.\n"
     ]
    }
   ],
   "source": [
    "X = all_factors\n",
    "Y = gdp_data['大湾区汇总']\n",
    "Y.index = gdp_data['年']\n",
    "\n",
    "# 使用statsmodel库构建多元线性回归模型\n",
    "X = sm.add_constant(X)\n",
    "model = sm.OLS(Y, X)\n",
    "results = model.fit()\n",
    "\n",
    "print(results.summary())"
   ]
  }
 ],
 "metadata": {
  "kernelspec": {
   "display_name": "Python 3 (ipykernel)",
   "language": "python",
   "name": "python3"
  },
  "language_info": {
   "codemirror_mode": {
    "name": "ipython",
    "version": 3
   },
   "file_extension": ".py",
   "mimetype": "text/x-python",
   "name": "python",
   "nbconvert_exporter": "python",
   "pygments_lexer": "ipython3",
   "version": "3.11.9"
  }
 },
 "nbformat": 4,
 "nbformat_minor": 5
}
